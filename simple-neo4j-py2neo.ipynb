{
 "cells": [
  {
   "cell_type": "markdown",
   "metadata": {},
   "source": [
    "# neo4j with simple python"
   ]
  },
  {
   "cell_type": "markdown",
   "metadata": {},
   "source": [
    "#######################################################################<br/>\n",
    "Script      : Demo python script for neo4j<br/>\n",
    "Test Env    : MacOS Sierra & Python 3.x<br/>\n",
    "Authors     : Nashihun Amien (nashihunamien@gmail.com) <br/>\n",
    "How to      : Run neo4j - setup connection; include user pass - run script with your jupyter notebook <br/>########################################################################"
   ]
  },
  {
   "cell_type": "markdown",
   "metadata": {},
   "source": [
    "Demo sederhana untuk penggunaan python dengan database neo4j"
   ]
  },
  {
   "cell_type": "markdown",
   "metadata": {},
   "source": [
    "Demo ini menggunakan py2neo untuk library koneksi antar python dengan neo4j.\n",
    "hal yang paling mendasar yang perlu diingat adalah koneksi ke database. \n",
    "Agar bisa digunakan dengan bahasa pemrograman tertentu, neo4j menggunakan protokol bolt untuk konektivitasnya."
   ]
  },
  {
   "cell_type": "code",
   "execution_count": 7,
   "metadata": {},
   "outputs": [],
   "source": [
    "from py2neo import Graph\n",
    "graph = Graph(\"bolt://localhost:7687\", auth=(\"neo4j\", \"Bismillah123!@\"))"
   ]
  },
  {
   "cell_type": "markdown",
   "metadata": {},
   "source": [
    "Gunakan perintah dibawah ini untuk melakukan wipe all semua data jika database sebelumnya ada informasi <i>dummy</i> nya"
   ]
  },
  {
   "cell_type": "code",
   "execution_count": 8,
   "metadata": {},
   "outputs": [],
   "source": [
    "graph.delete_all()"
   ]
  },
  {
   "cell_type": "markdown",
   "metadata": {},
   "source": [
    "Untuk inisialisasi dan pembuatan node kedalam neo4j bisa menggunakan <b>Node</b> dari <i>library</i> py2neo dan <b>graph.create</b> untuk <i>push</i> ke neo4j"
   ]
  },
  {
   "cell_type": "code",
   "execution_count": 9,
   "metadata": {},
   "outputs": [],
   "source": [
    "from py2neo import Node\n",
    "\n",
    "amien = Node(\"User\", name=\"Amien\", age=17)\n",
    "cassandra = Node(\"User\", name=\"Cassandra\", age=20)\n",
    "dian = Node(\"User\", name=\"Dian\", age=23)\n",
    "lucky = Node(\"User\", name=\"Lucky\", age=30)\n",
    "ichy = Node(\"User\", name=\"Ichy\", age=28)\n",
    "bambang = Node(\"User\", name=\"Bambang\", age=50)\n",
    "lulu = Node(\"User\", name=\"Lulu\", age=12)\n",
    "\n",
    "tweet1 = Node(\"Tweet\", name=\"Tweet 1\")\n",
    "tweet2 = Node(\"Tweet\", name=\"Tweet 2\")\n",
    "tweet3 = Node(\"Tweet\", name=\"Tweet 3\")\n",
    "tweet4 = Node(\"Tweet\", name=\"Tweet 4\")\n",
    "tweet5 = Node(\"Tweet\", name=\"Tweet 5\")\n",
    "tweet6 = Node(\"Tweet\", name=\"Tweet 6\")\n",
    "tweet7 = Node(\"Tweet\", name=\"Tweet 7\")\n",
    "tweet8 = Node(\"Tweet\", name=\"Tweet 8\")\n",
    "tweet9 = Node(\"Tweet\", name=\"Tweet 9\")\n",
    "tweet10 = Node(\"Tweet\", name=\"Tweet 10\")\n",
    "tweet11 = Node(\"Tweet\", name=\"Tweet 11\")\n",
    "tweet12 = Node(\"Tweet\", name=\"Tweet 12\")\n",
    "tweet13 = Node(\"Tweet\", name=\"Tweet 13\")\n",
    "\n",
    "hastag1 = Node(\"Hastag\", name=\"Hastag1\")\n",
    "hastag2 = Node(\"Hastag\", name=\"Hastag2\")\n",
    "hastag3 = Node(\"Hastag\", name=\"Hastag3\")\n",
    "hastag4 = Node(\"Hastag\", name=\"Hastag4\")\n",
    "hastag5 = Node(\"Hastag\", name=\"Hastag5\")\n",
    "hastag6 = Node(\"Hastag\", name=\"Hastag6\")\n",
    "hastag7 = Node(\"Hastag\", name=\"Hastag7\")\n",
    "hastag8 = Node(\"Hastag\", name=\"Hastag8\")\n",
    "\n",
    "graph.create(amien | cassandra | dian | lucky | ichy | bambang | lulu | tweet1 | tweet2 | tweet3 | tweet4 | tweet5 | tweet6 | tweet7| tweet8 | tweet9 | tweet10 | tweet11 | tweet12 | tweet13 | hastag1 | hastag2 | hastag3 | hastag4 | hastag5 | hastag6 | hastag7 | hastag8)"
   ]
  },
  {
   "cell_type": "markdown",
   "metadata": {},
   "source": [
    "Kemudian gunakan <b>Relationship</b> untuk membangun hubungan antar node.<br/>\n",
    "Tips: mending gambar dulu dikertas biar ga pusing pas awal-awal belajar inisialisasi datanya ;)"
   ]
  },
  {
   "cell_type": "code",
   "execution_count": 10,
   "metadata": {},
   "outputs": [],
   "source": [
    "from py2neo import Relationship\n",
    "\n",
    "graph.create(Relationship(amien, \"FOLLOW\", cassandra))\n",
    "graph.create(Relationship(cassandra, \"FOLLOW\", amien))\n",
    "graph.create(Relationship(cassandra, \"FOLLOW\", lulu))\n",
    "graph.create(Relationship(ichy, \"FOLLOW\", amien))\n",
    "graph.create(Relationship(ichy, \"FOLLOW\", bambang))\n",
    "graph.create(Relationship(ichy, \"FOLLOW\", cassandra))\n",
    "graph.create(Relationship(bambang, \"FOLLOW\", lulu))\n",
    "graph.create(Relationship(bambang, \"FOLLOW\", dian))\n",
    "graph.create(Relationship(lulu, \"FOLLOW\", lucky))\n",
    "graph.create(Relationship(lucky, \"FOLLOW\", lulu))\n",
    "graph.create(Relationship(lucky, \"FOLLOW\", dian))\n",
    "graph.create(Relationship(lucky, \"FOLLOW\", cassandra))\n",
    "graph.create(Relationship(dian, \"FOLLOW\", ichy))\n",
    "graph.create(Relationship(dian, \"FOLLOW\", lulu))\n",
    "graph.create(Relationship(dian, \"FOLLOW\", lucky))\n",
    "\n",
    "graph.create(Relationship(amien, \"TWEET\", tweet1))\n",
    "graph.create(Relationship(amien, \"TWEET\", tweet2))\n",
    "graph.create(Relationship(ichy, \"TWEET\", tweet3))\n",
    "graph.create(Relationship(bambang, \"TWEET\", tweet4))\n",
    "graph.create(Relationship(bambang, \"TWEET\", tweet5))\n",
    "graph.create(Relationship(bambang, \"TWEET\", tweet6))\n",
    "graph.create(Relationship(dian, \"TWEET\", tweet7))\n",
    "graph.create(Relationship(cassandra, \"TWEET\", tweet8))\n",
    "\n",
    "graph.create(Relationship(cassandra, \"RETWEET\", tweet1))\n",
    "graph.create(Relationship(cassandra, \"RETWEET\", tweet2))\n",
    "graph.create(Relationship(cassandra, \"RETWEET\", tweet3))\n",
    "graph.create(Relationship(cassandra, \"RETWEET\", tweet1))\n",
    "graph.create(Relationship(dian, \"RETWEET\", tweet1))\n",
    "graph.create(Relationship(ichy, \"RETWEET\", tweet1))\n",
    "graph.create(Relationship(bambang, \"RETWEET\", tweet8))\n",
    "graph.create(Relationship(bambang, \"RETWEET\", tweet3))\n",
    "graph.create(Relationship(lulu, \"RETWEET\", tweet8))\n",
    "graph.create(Relationship(lucky, \"RETWEET\", tweet6))\n",
    "graph.create(Relationship(lucky, \"RETWEET\", tweet7))\n",
    "\n",
    "graph.create(Relationship(tweet1, \"WITH_HASTAG\", hastag1))\n",
    "graph.create(Relationship(tweet2, \"WITH_HASTAG\", hastag2))\n",
    "graph.create(Relationship(tweet3, \"WITH_HASTAG\", hastag1))\n",
    "graph.create(Relationship(tweet4, \"WITH_HASTAG\", hastag3))\n",
    "graph.create(Relationship(tweet5, \"WITH_HASTAG\", hastag4))\n",
    "graph.create(Relationship(tweet6, \"WITH_HASTAG\", hastag5))\n",
    "graph.create(Relationship(tweet7, \"WITH_HASTAG\", hastag2))\n",
    "graph.create(Relationship(tweet8, \"WITH_HASTAG\", hastag4))"
   ]
  },
  {
   "cell_type": "markdown",
   "metadata": {},
   "source": [
    "Contoh penggunaan query neo4j di python dengan library py2neo"
   ]
  },
  {
   "cell_type": "code",
   "execution_count": 11,
   "metadata": {},
   "outputs": [
    {
     "name": "stdout",
     "output_type": "stream",
     "text": [
      "<Record username='Ichy' tweet='Tweet 3'>\n",
      "<Record username='Dian' tweet='Tweet 7'>\n",
      "<Record username='Bambang' tweet='Tweet 6'>\n",
      "<Record username='Bambang' tweet='Tweet 5'>\n",
      "<Record username='Bambang' tweet='Tweet 4'>\n",
      "<Record username='Cassandra' tweet='Tweet 8'>\n",
      "<Record username='Amien' tweet='Tweet 2'>\n",
      "<Record username='Amien' tweet='Tweet 1'>\n"
     ]
    }
   ],
   "source": [
    "query = \"\"\"\n",
    "MATCH (user:User)-[:TWEET]->(posting:Tweet)\n",
    "RETURN user.name AS username, posting.name AS tweet\n",
    "\"\"\"\n",
    "\n",
    "data = graph.run(query)\n",
    "\n",
    "for d in data:\n",
    "    print(d)"
   ]
  },
  {
   "cell_type": "markdown",
   "metadata": {},
   "source": [
    "# Kombinasi dengan Pandas data frame"
   ]
  },
  {
   "cell_type": "markdown",
   "metadata": {},
   "source": [
    "*uhuk masih error di bagian <b>%cypher</b> :'("
   ]
  },
  {
   "cell_type": "code",
   "execution_count": 44,
   "metadata": {},
   "outputs": [
    {
     "name": "stdout",
     "output_type": "stream",
     "text": [
      "The cypher extension is already loaded. To reload it, use:\n",
      "  %reload_ext cypher\n"
     ]
    }
   ],
   "source": [
    "## load module chyper\n",
    "%load_ext cypher"
   ]
  },
  {
   "cell_type": "code",
   "execution_count": null,
   "metadata": {},
   "outputs": [],
   "source": [
    "results = %cypher MATCH (user:User)-[:TWEET]->(posting:Tweet) \\\n",
    "                  RETURN user.name AS username, posting.name AS tweet\n",
    "    \n",
    "df = results.get_dataframe()\n",
    "df"
   ]
  }
 ],
 "metadata": {
  "kernelspec": {
   "display_name": "Python 3",
   "language": "python",
   "name": "python3"
  },
  "language_info": {
   "codemirror_mode": {
    "name": "ipython",
    "version": 3
   },
   "file_extension": ".py",
   "mimetype": "text/x-python",
   "name": "python",
   "nbconvert_exporter": "python",
   "pygments_lexer": "ipython3",
   "version": "3.5.5"
  }
 },
 "nbformat": 4,
 "nbformat_minor": 2
}
